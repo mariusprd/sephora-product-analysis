{
 "cells": [
  {
   "cell_type": "markdown",
   "metadata": {},
   "source": [
    "# Exploratory Data Analysis on Sephora Product Reviews"
   ]
  },
  {
   "cell_type": "markdown",
   "metadata": {},
   "source": [
    "### Product Info Analysis"
   ]
  },
  {
   "cell_type": "code",
   "execution_count": 9,
   "metadata": {},
   "outputs": [],
   "source": [
    "import pandas as pd\n",
    "import numpy as np\n",
    "import os\n",
    "import plotly.express as px\n"
   ]
  },
  {
   "cell_type": "code",
   "execution_count": 18,
   "metadata": {},
   "outputs": [
    {
     "name": "stdout",
     "output_type": "stream",
     "text": [
      "(8494, 27)\n",
      "Index(['product_id', 'product_name', 'brand_id', 'brand_name', 'loves_count', 'rating', 'reviews', 'size', 'variation_type', 'variation_value', 'variation_desc', 'ingredients', 'price_usd', 'value_price_usd', 'sale_price_usd', 'limited_edition', 'new', 'online_only', 'out_of_stock', 'sephora_exclusive', 'highlights', 'primary_category', 'secondary_category', 'tertiary_category', 'child_count', 'child_max_price', 'child_min_price'], dtype='object')\n",
      "  product_id               product_name  brand_id brand_name  loves_count  rating  reviews            size                      variation_type variation_value  ... online_only out_of_stock  sephora_exclusive                                         highlights  primary_category  secondary_category  tertiary_category  child_count  child_max_price  child_min_price\n",
      "0    P473671    Fragrance Discovery Set      6342      19-69         6320  3.6364     11.0             NaN                                 NaN             NaN  ...           1            0                  0  ['Unisex/ Genderless Scent', 'Warm &Spicy Scen...         Fragrance   Value & Gift Sets  Perfume Gift Sets            0              NaN              NaN\n",
      "1    P473668    La Habana Eau de Parfum      6342      19-69         3827  4.1538     13.0  3.4 oz/ 100 mL  Size + Concentration + Formulation  3.4 oz/ 100 mL  ...           1            0                  0  ['Unisex/ Genderless Scent', 'Layerable Scent'...         Fragrance               Women            Perfume            2             85.0             30.0\n",
      "2    P473662  Rainbow Bar Eau de Parfum      6342      19-69         3253  4.2500     16.0  3.4 oz/ 100 mL  Size + Concentration + Formulation  3.4 oz/ 100 mL  ...           1            0                  0  ['Unisex/ Genderless Scent', 'Layerable Scent'...         Fragrance               Women            Perfume            2             75.0             30.0\n",
      "3    P473660       Kasbah Eau de Parfum      6342      19-69         3018  4.4762     21.0  3.4 oz/ 100 mL  Size + Concentration + Formulation  3.4 oz/ 100 mL  ...           1            0                  0  ['Unisex/ Genderless Scent', 'Layerable Scent'...         Fragrance               Women            Perfume            2             75.0             30.0\n",
      "4    P473658  Purple Haze Eau de Parfum      6342      19-69         2691  3.2308     13.0  3.4 oz/ 100 mL  Size + Concentration + Formulation  3.4 oz/ 100 mL  ...           1            0                  0  ['Unisex/ Genderless Scent', 'Layerable Scent'...         Fragrance               Women            Perfume            2             75.0             30.0\n",
      "\n",
      "[5 rows x 27 columns]\n"
     ]
    }
   ],
   "source": [
    "DATA_PATH = '../data/raw/'\n",
    "pd.set_option('display.width', 2000)\n",
    "\n",
    "product_info_df = pd.read_csv(os.path.join(DATA_PATH, 'product_info.csv'))\n",
    "print(product_info_df.shape)\n",
    "print(product_info_df.columns)\n",
    "print(product_info_df.head())"
   ]
  },
  {
   "cell_type": "code",
   "execution_count": 3,
   "metadata": {},
   "outputs": [
    {
     "name": "stdout",
     "output_type": "stream",
     "text": [
      "(1094411, 18)\n",
      "     author_id  rating  is_recommended  helpfulness  total_feedback_count  total_neg_feedback_count  total_pos_feedback_count submission_time                                        review_text                      review_title skin_tone eye_color    skin_type hair_color product_id                                       product_name brand_name  price_usd\n",
      "0   1741593524       5             1.0          1.0                     2                         0                         2      2023-02-01  I use this with the Nudestix “Citrus Clean Bal...  Taught me how to double cleanse!       NaN     brown          dry      black    P504322                     Gentle Hydra-Gel Face Cleanser   NUDESTIX       19.0\n",
      "1  31423088263       1             0.0          NaN                     0                         0                         0      2023-03-21  I bought this lip mask after reading the revie...                      Disappointed       NaN       NaN          NaN        NaN    P420652  Lip Sleeping Mask Intense Hydration with Vitam...    LANEIGE       24.0\n",
      "2   5061282401       5             1.0          NaN                     0                         0                         0      2023-03-21  My review title says it all! I get so excited ...              New Favorite Routine     light     brown          dry     blonde    P420652  Lip Sleeping Mask Intense Hydration with Vitam...    LANEIGE       24.0\n",
      "3   6083038851       5             1.0          NaN                     0                         0                         0      2023-03-20  I’ve always loved this formula for a long time...   Can't go wrong with any of them       NaN     brown  combination      black    P420652  Lip Sleeping Mask Intense Hydration with Vitam...    LANEIGE       24.0\n",
      "4  47056667835       5             1.0          NaN                     0                         0                         0      2023-03-20  If you have dry cracked lips, this is a must h...                   A must have !!!     light     hazel  combination        NaN    P420652  Lip Sleeping Mask Intense Hydration with Vitam...    LANEIGE       24.0\n"
     ]
    }
   ],
   "source": [
    "reviews_df1 = pd.read_csv(os.path.join(DATA_PATH, 'reviews_0-250.csv'), index_col=0, dtype={'author_id': str})\n",
    "reviews_df2 = pd.read_csv(os.path.join(DATA_PATH, 'reviews_250-500.csv'), index_col=0, dtype={'author_id': str})\n",
    "reviews_df3 = pd.read_csv(os.path.join(DATA_PATH, 'reviews_500-750.csv'), index_col=0, dtype={'author_id': str})\n",
    "reviews_df4 = pd.read_csv(os.path.join(DATA_PATH, 'reviews_750-1250.csv'), index_col=0, dtype={'author_id': str})\n",
    "reviews_df5 = pd.read_csv(os.path.join(DATA_PATH, 'reviews_1250-end.csv'), index_col=0, dtype={'author_id': str})\n",
    "all_reviews_df = pd.concat([reviews_df1, reviews_df2, reviews_df3, reviews_df4, reviews_df5], ignore_index=True)\n",
    "print(all_reviews_df.shape)\n",
    "print(all_reviews_df.head())"
   ]
  },
  {
   "cell_type": "code",
   "execution_count": 4,
   "metadata": {},
   "outputs": [
    {
     "data": {
      "text/html": [
       "<div>\n",
       "<style scoped>\n",
       "    .dataframe tbody tr th:only-of-type {\n",
       "        vertical-align: middle;\n",
       "    }\n",
       "\n",
       "    .dataframe tbody tr th {\n",
       "        vertical-align: top;\n",
       "    }\n",
       "\n",
       "    .dataframe thead th {\n",
       "        text-align: right;\n",
       "    }\n",
       "</style>\n",
       "<table border=\"1\" class=\"dataframe\">\n",
       "  <thead>\n",
       "    <tr style=\"text-align: right;\">\n",
       "      <th></th>\n",
       "      <th>product_id</th>\n",
       "      <th>product_name</th>\n",
       "      <th>brand_id</th>\n",
       "      <th>brand_name</th>\n",
       "      <th>loves_count</th>\n",
       "      <th>rating</th>\n",
       "      <th>reviews</th>\n",
       "      <th>size</th>\n",
       "      <th>variation_type</th>\n",
       "      <th>variation_value</th>\n",
       "      <th>...</th>\n",
       "      <th>online_only</th>\n",
       "      <th>out_of_stock</th>\n",
       "      <th>sephora_exclusive</th>\n",
       "      <th>highlights</th>\n",
       "      <th>primary_category</th>\n",
       "      <th>secondary_category</th>\n",
       "      <th>tertiary_category</th>\n",
       "      <th>child_count</th>\n",
       "      <th>child_max_price</th>\n",
       "      <th>child_min_price</th>\n",
       "    </tr>\n",
       "  </thead>\n",
       "  <tbody>\n",
       "    <tr>\n",
       "      <th>count</th>\n",
       "      <td>8494</td>\n",
       "      <td>8494</td>\n",
       "      <td>8494.000000</td>\n",
       "      <td>8494</td>\n",
       "      <td>8.494000e+03</td>\n",
       "      <td>8216.000000</td>\n",
       "      <td>8216.000000</td>\n",
       "      <td>6863</td>\n",
       "      <td>7050</td>\n",
       "      <td>6896</td>\n",
       "      <td>...</td>\n",
       "      <td>8494.000000</td>\n",
       "      <td>8494.000000</td>\n",
       "      <td>8494.000000</td>\n",
       "      <td>6287</td>\n",
       "      <td>8494</td>\n",
       "      <td>8486</td>\n",
       "      <td>7504</td>\n",
       "      <td>8494.000000</td>\n",
       "      <td>2754.000000</td>\n",
       "      <td>2754.000000</td>\n",
       "    </tr>\n",
       "    <tr>\n",
       "      <th>unique</th>\n",
       "      <td>8494</td>\n",
       "      <td>8415</td>\n",
       "      <td>NaN</td>\n",
       "      <td>304</td>\n",
       "      <td>NaN</td>\n",
       "      <td>NaN</td>\n",
       "      <td>NaN</td>\n",
       "      <td>2055</td>\n",
       "      <td>7</td>\n",
       "      <td>2729</td>\n",
       "      <td>...</td>\n",
       "      <td>NaN</td>\n",
       "      <td>NaN</td>\n",
       "      <td>NaN</td>\n",
       "      <td>4417</td>\n",
       "      <td>9</td>\n",
       "      <td>41</td>\n",
       "      <td>118</td>\n",
       "      <td>NaN</td>\n",
       "      <td>NaN</td>\n",
       "      <td>NaN</td>\n",
       "    </tr>\n",
       "    <tr>\n",
       "      <th>top</th>\n",
       "      <td>P473671</td>\n",
       "      <td>Fragrance Discovery Set</td>\n",
       "      <td>NaN</td>\n",
       "      <td>SEPHORA COLLECTION</td>\n",
       "      <td>NaN</td>\n",
       "      <td>NaN</td>\n",
       "      <td>NaN</td>\n",
       "      <td>1.7 oz/ 50 mL</td>\n",
       "      <td>Size</td>\n",
       "      <td>1.7 oz/ 50 mL</td>\n",
       "      <td>...</td>\n",
       "      <td>NaN</td>\n",
       "      <td>NaN</td>\n",
       "      <td>NaN</td>\n",
       "      <td>['Layerable Scent', 'Floral Scent']</td>\n",
       "      <td>Skincare</td>\n",
       "      <td>Women</td>\n",
       "      <td>Perfume</td>\n",
       "      <td>NaN</td>\n",
       "      <td>NaN</td>\n",
       "      <td>NaN</td>\n",
       "    </tr>\n",
       "    <tr>\n",
       "      <th>freq</th>\n",
       "      <td>1</td>\n",
       "      <td>3</td>\n",
       "      <td>NaN</td>\n",
       "      <td>352</td>\n",
       "      <td>NaN</td>\n",
       "      <td>NaN</td>\n",
       "      <td>NaN</td>\n",
       "      <td>500</td>\n",
       "      <td>4043</td>\n",
       "      <td>374</td>\n",
       "      <td>...</td>\n",
       "      <td>NaN</td>\n",
       "      <td>NaN</td>\n",
       "      <td>NaN</td>\n",
       "      <td>64</td>\n",
       "      <td>2420</td>\n",
       "      <td>875</td>\n",
       "      <td>568</td>\n",
       "      <td>NaN</td>\n",
       "      <td>NaN</td>\n",
       "      <td>NaN</td>\n",
       "    </tr>\n",
       "    <tr>\n",
       "      <th>mean</th>\n",
       "      <td>NaN</td>\n",
       "      <td>NaN</td>\n",
       "      <td>5422.440546</td>\n",
       "      <td>NaN</td>\n",
       "      <td>2.917957e+04</td>\n",
       "      <td>4.194513</td>\n",
       "      <td>448.545521</td>\n",
       "      <td>NaN</td>\n",
       "      <td>NaN</td>\n",
       "      <td>NaN</td>\n",
       "      <td>...</td>\n",
       "      <td>0.219096</td>\n",
       "      <td>0.073699</td>\n",
       "      <td>0.279374</td>\n",
       "      <td>NaN</td>\n",
       "      <td>NaN</td>\n",
       "      <td>NaN</td>\n",
       "      <td>NaN</td>\n",
       "      <td>1.631622</td>\n",
       "      <td>53.792023</td>\n",
       "      <td>39.665802</td>\n",
       "    </tr>\n",
       "    <tr>\n",
       "      <th>std</th>\n",
       "      <td>NaN</td>\n",
       "      <td>NaN</td>\n",
       "      <td>1709.595957</td>\n",
       "      <td>NaN</td>\n",
       "      <td>6.609212e+04</td>\n",
       "      <td>0.516694</td>\n",
       "      <td>1101.982529</td>\n",
       "      <td>NaN</td>\n",
       "      <td>NaN</td>\n",
       "      <td>NaN</td>\n",
       "      <td>...</td>\n",
       "      <td>0.413658</td>\n",
       "      <td>0.261296</td>\n",
       "      <td>0.448718</td>\n",
       "      <td>NaN</td>\n",
       "      <td>NaN</td>\n",
       "      <td>NaN</td>\n",
       "      <td>NaN</td>\n",
       "      <td>5.379470</td>\n",
       "      <td>58.765894</td>\n",
       "      <td>38.685720</td>\n",
       "    </tr>\n",
       "    <tr>\n",
       "      <th>min</th>\n",
       "      <td>NaN</td>\n",
       "      <td>NaN</td>\n",
       "      <td>1063.000000</td>\n",
       "      <td>NaN</td>\n",
       "      <td>0.000000e+00</td>\n",
       "      <td>1.000000</td>\n",
       "      <td>1.000000</td>\n",
       "      <td>NaN</td>\n",
       "      <td>NaN</td>\n",
       "      <td>NaN</td>\n",
       "      <td>...</td>\n",
       "      <td>0.000000</td>\n",
       "      <td>0.000000</td>\n",
       "      <td>0.000000</td>\n",
       "      <td>NaN</td>\n",
       "      <td>NaN</td>\n",
       "      <td>NaN</td>\n",
       "      <td>NaN</td>\n",
       "      <td>0.000000</td>\n",
       "      <td>3.000000</td>\n",
       "      <td>3.000000</td>\n",
       "    </tr>\n",
       "    <tr>\n",
       "      <th>25%</th>\n",
       "      <td>NaN</td>\n",
       "      <td>NaN</td>\n",
       "      <td>5333.000000</td>\n",
       "      <td>NaN</td>\n",
       "      <td>3.758000e+03</td>\n",
       "      <td>3.981725</td>\n",
       "      <td>26.000000</td>\n",
       "      <td>NaN</td>\n",
       "      <td>NaN</td>\n",
       "      <td>NaN</td>\n",
       "      <td>...</td>\n",
       "      <td>0.000000</td>\n",
       "      <td>0.000000</td>\n",
       "      <td>0.000000</td>\n",
       "      <td>NaN</td>\n",
       "      <td>NaN</td>\n",
       "      <td>NaN</td>\n",
       "      <td>NaN</td>\n",
       "      <td>0.000000</td>\n",
       "      <td>22.000000</td>\n",
       "      <td>19.000000</td>\n",
       "    </tr>\n",
       "    <tr>\n",
       "      <th>50%</th>\n",
       "      <td>NaN</td>\n",
       "      <td>NaN</td>\n",
       "      <td>6157.500000</td>\n",
       "      <td>NaN</td>\n",
       "      <td>9.880000e+03</td>\n",
       "      <td>4.289350</td>\n",
       "      <td>122.000000</td>\n",
       "      <td>NaN</td>\n",
       "      <td>NaN</td>\n",
       "      <td>NaN</td>\n",
       "      <td>...</td>\n",
       "      <td>0.000000</td>\n",
       "      <td>0.000000</td>\n",
       "      <td>0.000000</td>\n",
       "      <td>NaN</td>\n",
       "      <td>NaN</td>\n",
       "      <td>NaN</td>\n",
       "      <td>NaN</td>\n",
       "      <td>0.000000</td>\n",
       "      <td>32.000000</td>\n",
       "      <td>28.000000</td>\n",
       "    </tr>\n",
       "    <tr>\n",
       "      <th>75%</th>\n",
       "      <td>NaN</td>\n",
       "      <td>NaN</td>\n",
       "      <td>6328.000000</td>\n",
       "      <td>NaN</td>\n",
       "      <td>2.684125e+04</td>\n",
       "      <td>4.530525</td>\n",
       "      <td>418.000000</td>\n",
       "      <td>NaN</td>\n",
       "      <td>NaN</td>\n",
       "      <td>NaN</td>\n",
       "      <td>...</td>\n",
       "      <td>0.000000</td>\n",
       "      <td>0.000000</td>\n",
       "      <td>1.000000</td>\n",
       "      <td>NaN</td>\n",
       "      <td>NaN</td>\n",
       "      <td>NaN</td>\n",
       "      <td>NaN</td>\n",
       "      <td>1.000000</td>\n",
       "      <td>59.000000</td>\n",
       "      <td>42.000000</td>\n",
       "    </tr>\n",
       "    <tr>\n",
       "      <th>max</th>\n",
       "      <td>NaN</td>\n",
       "      <td>NaN</td>\n",
       "      <td>8020.000000</td>\n",
       "      <td>NaN</td>\n",
       "      <td>1.401068e+06</td>\n",
       "      <td>5.000000</td>\n",
       "      <td>21281.000000</td>\n",
       "      <td>NaN</td>\n",
       "      <td>NaN</td>\n",
       "      <td>NaN</td>\n",
       "      <td>...</td>\n",
       "      <td>1.000000</td>\n",
       "      <td>1.000000</td>\n",
       "      <td>1.000000</td>\n",
       "      <td>NaN</td>\n",
       "      <td>NaN</td>\n",
       "      <td>NaN</td>\n",
       "      <td>NaN</td>\n",
       "      <td>105.000000</td>\n",
       "      <td>570.000000</td>\n",
       "      <td>400.000000</td>\n",
       "    </tr>\n",
       "  </tbody>\n",
       "</table>\n",
       "<p>11 rows × 27 columns</p>\n",
       "</div>"
      ],
      "text/plain": [
       "       product_id             product_name     brand_id          brand_name   loves_count       rating       reviews           size variation_type variation_value  ...  online_only out_of_stock  sephora_exclusive                           highlights  primary_category  secondary_category  tertiary_category  child_count  child_max_price  child_min_price\n",
       "count        8494                     8494  8494.000000                8494  8.494000e+03  8216.000000   8216.000000           6863           7050            6896  ...  8494.000000  8494.000000        8494.000000                                 6287              8494                8486               7504  8494.000000      2754.000000      2754.000000\n",
       "unique       8494                     8415          NaN                 304           NaN          NaN           NaN           2055              7            2729  ...          NaN          NaN                NaN                                 4417                 9                  41                118          NaN              NaN              NaN\n",
       "top       P473671  Fragrance Discovery Set          NaN  SEPHORA COLLECTION           NaN          NaN           NaN  1.7 oz/ 50 mL           Size   1.7 oz/ 50 mL  ...          NaN          NaN                NaN  ['Layerable Scent', 'Floral Scent']          Skincare               Women            Perfume          NaN              NaN              NaN\n",
       "freq            1                        3          NaN                 352           NaN          NaN           NaN            500           4043             374  ...          NaN          NaN                NaN                                   64              2420                 875                568          NaN              NaN              NaN\n",
       "mean          NaN                      NaN  5422.440546                 NaN  2.917957e+04     4.194513    448.545521            NaN            NaN             NaN  ...     0.219096     0.073699           0.279374                                  NaN               NaN                 NaN                NaN     1.631622        53.792023        39.665802\n",
       "std           NaN                      NaN  1709.595957                 NaN  6.609212e+04     0.516694   1101.982529            NaN            NaN             NaN  ...     0.413658     0.261296           0.448718                                  NaN               NaN                 NaN                NaN     5.379470        58.765894        38.685720\n",
       "min           NaN                      NaN  1063.000000                 NaN  0.000000e+00     1.000000      1.000000            NaN            NaN             NaN  ...     0.000000     0.000000           0.000000                                  NaN               NaN                 NaN                NaN     0.000000         3.000000         3.000000\n",
       "25%           NaN                      NaN  5333.000000                 NaN  3.758000e+03     3.981725     26.000000            NaN            NaN             NaN  ...     0.000000     0.000000           0.000000                                  NaN               NaN                 NaN                NaN     0.000000        22.000000        19.000000\n",
       "50%           NaN                      NaN  6157.500000                 NaN  9.880000e+03     4.289350    122.000000            NaN            NaN             NaN  ...     0.000000     0.000000           0.000000                                  NaN               NaN                 NaN                NaN     0.000000        32.000000        28.000000\n",
       "75%           NaN                      NaN  6328.000000                 NaN  2.684125e+04     4.530525    418.000000            NaN            NaN             NaN  ...     0.000000     0.000000           1.000000                                  NaN               NaN                 NaN                NaN     1.000000        59.000000        42.000000\n",
       "max           NaN                      NaN  8020.000000                 NaN  1.401068e+06     5.000000  21281.000000            NaN            NaN             NaN  ...     1.000000     1.000000           1.000000                                  NaN               NaN                 NaN                NaN   105.000000       570.000000       400.000000\n",
       "\n",
       "[11 rows x 27 columns]"
      ]
     },
     "execution_count": 4,
     "metadata": {},
     "output_type": "execute_result"
    }
   ],
   "source": [
    "product_info_df.describe(include='all')"
   ]
  },
  {
   "cell_type": "code",
   "execution_count": 5,
   "metadata": {},
   "outputs": [
    {
     "name": "stdout",
     "output_type": "stream",
     "text": [
      "['brand_id', 'child_count', 'child_max_price', 'child_min_price', 'highlights', 'ingredients', 'limited_edition', 'loves_count', 'new', 'online_only', 'out_of_stock', 'primary_category', 'reviews', 'sale_price_usd', 'secondary_category', 'sephora_exclusive', 'size', 'tertiary_category', 'value_price_usd', 'variation_desc', 'variation_type', 'variation_value', 'product_id']\n"
     ]
    }
   ],
   "source": [
    "# Lets check product_info_df which columns that similar with all_reviews_df\n",
    "cols_to_use = product_info_df.columns.difference(all_reviews_df.columns)\n",
    "cols_to_use = list(cols_to_use)\n",
    "cols_to_use.append('product_id')\n",
    "print(cols_to_use)"
   ]
  },
  {
   "cell_type": "code",
   "execution_count": 6,
   "metadata": {},
   "outputs": [
    {
     "name": "stdout",
     "output_type": "stream",
     "text": [
      "(1094411, 40)\n",
      "     author_id  rating  is_recommended  helpfulness  total_feedback_count  total_neg_feedback_count  total_pos_feedback_count submission_time                                        review_text                      review_title  ...  reviews sale_price_usd      secondary_category sephora_exclusive            size tertiary_category value_price_usd  variation_desc  variation_type  variation_value\n",
      "0   1741593524       5             1.0          1.0                     2                         0                         2      2023-02-01  I use this with the Nudestix “Citrus Clean Bal...  Taught me how to double cleanse!  ...      1.0            NaN               Cleansers                 0  2.4 oz / 70 ml               NaN             NaN             NaN            Size   2.4 oz / 70 ml\n",
      "1  31423088263       1             0.0          NaN                     0                         0                         0      2023-03-21  I bought this lip mask after reading the revie...                      Disappointed  ...  16118.0            NaN  Lip Balms & Treatments                 1    0.7 oz/ 20 g               NaN             NaN             NaN           Color         Original\n",
      "2   5061282401       5             1.0          NaN                     0                         0                         0      2023-03-21  My review title says it all! I get so excited ...              New Favorite Routine  ...  16118.0            NaN  Lip Balms & Treatments                 1    0.7 oz/ 20 g               NaN             NaN             NaN           Color         Original\n",
      "3   6083038851       5             1.0          NaN                     0                         0                         0      2023-03-20  I’ve always loved this formula for a long time...   Can't go wrong with any of them  ...  16118.0            NaN  Lip Balms & Treatments                 1    0.7 oz/ 20 g               NaN             NaN             NaN           Color         Original\n",
      "4  47056667835       5             1.0          NaN                     0                         0                         0      2023-03-20  If you have dry cracked lips, this is a must h...                   A must have !!!  ...  16118.0            NaN  Lip Balms & Treatments                 1    0.7 oz/ 20 g               NaN             NaN             NaN           Color         Original\n",
      "\n",
      "[5 rows x 40 columns]\n"
     ]
    }
   ],
   "source": [
    "reviews_df = pd.merge(all_reviews_df, product_info_df[cols_to_use], how='left', on='product_id')\n",
    "print(reviews_df.shape)\n",
    "print(reviews_df.head())"
   ]
  },
  {
   "cell_type": "code",
   "execution_count": 7,
   "metadata": {},
   "outputs": [
    {
     "name": "stdout",
     "output_type": "stream",
     "text": [
      "         author_id        rating  is_recommended    helpfulness  total_feedback_count  total_neg_feedback_count  total_pos_feedback_count submission_time                                        review_text review_title  ...       reviews sale_price_usd secondary_category sephora_exclusive           size tertiary_category value_price_usd                   variation_desc  variation_type  variation_value\n",
      "count      1094411  1.094411e+06   926423.000000  532819.000000          1.094411e+06              1.094411e+06              1.094411e+06         1094411                                            1092967       783757  ...  1.094411e+06    9753.000000            1094411      1.094411e+06        1051048            933155    30877.000000                             8283         1042956          1030978\n",
      "unique      503216           NaN             NaN            NaN                   NaN                       NaN                       NaN            5317                                             969419       364105  ...           NaN            NaN                 13               NaN            517                30             NaN                               11               6              527\n",
      "top     1696370280           NaN             NaN            NaN                   NaN                       NaN                       NaN      2020-06-11  I received this in a sample. I have alot of ac...     Love it!  ...           NaN            NaN       Moisturizers               NaN  1.7 oz/ 50 mL      Moisturizers             NaN  a sheer juicy watermelon flavor            Size    1.7 oz/ 50 mL\n",
      "freq           292           NaN             NaN            NaN                   NaN                       NaN                       NaN            2028                                                 59         6125  ...           NaN            NaN             297399               NaN         129884            206124             NaN                             2200          963105           126054\n",
      "mean           NaN  4.299158e+00        0.839962       0.767782          4.177126e+00              8.948695e-01              3.282257e+00             NaN                                                NaN          NaN  ...  2.160949e+03      16.839300                NaN      3.242301e-01            NaN               NaN      115.147053                              NaN             NaN              NaN\n",
      "std            NaN  1.149444e+00        0.366642       0.317164          2.271524e+01              5.288943e+00              1.967482e+01             NaN                                                NaN          NaN  ...  2.526750e+03      13.929354                NaN      4.680867e-01            NaN               NaN       62.168899                              NaN             NaN              NaN\n",
      "min            NaN  1.000000e+00        0.000000       0.000000          0.000000e+00              0.000000e+00              0.000000e+00             NaN                                                NaN          NaN  ...  1.000000e+00       3.000000                NaN      0.000000e+00            NaN               NaN       20.000000                              NaN             NaN              NaN\n",
      "25%            NaN  4.000000e+00        1.000000       0.652174          0.000000e+00              0.000000e+00              0.000000e+00             NaN                                                NaN          NaN  ...  5.520000e+02       7.000000                NaN      0.000000e+00            NaN               NaN       68.000000                              NaN             NaN              NaN\n",
      "50%            NaN  5.000000e+00        1.000000       0.928571          0.000000e+00              0.000000e+00              0.000000e+00             NaN                                                NaN          NaN  ...  1.350000e+03      18.000000                NaN      0.000000e+00            NaN               NaN      102.000000                              NaN             NaN              NaN\n",
      "75%            NaN  5.000000e+00        1.000000       1.000000          3.000000e+00              1.000000e+00              3.000000e+00             NaN                                                NaN          NaN  ...  2.911000e+03      20.000000                NaN      1.000000e+00            NaN               NaN      142.000000                              NaN             NaN              NaN\n",
      "max            NaN  5.000000e+00        1.000000       1.000000          5.464000e+03              1.159000e+03              5.050000e+03             NaN                                                NaN          NaN  ...  1.611800e+04     320.000000                NaN      1.000000e+00            NaN               NaN      480.000000                              NaN             NaN              NaN\n",
      "\n",
      "[11 rows x 40 columns]\n"
     ]
    }
   ],
   "source": [
    "print(reviews_df.describe(include='all'))"
   ]
  },
  {
   "cell_type": "code",
   "execution_count": 24,
   "metadata": {},
   "outputs": [
    {
     "data": {
      "application/vnd.plotly.v1+json": {
       "config": {
        "plotlyServerURL": "https://plot.ly"
       },
       "data": [
        {
         "domain": {
          "x": [
           0,
           1
          ],
          "y": [
           0,
           1
          ]
         },
         "hole": 0.3,
         "hovertemplate": "primary_category=%{label}<br>count=%{value}<extra></extra>",
         "labels": [
          "Skincare",
          "Makeup",
          "Hair",
          "Fragrance",
          "Bath & Body",
          "Mini Size",
          "Others"
         ],
         "legendgroup": "",
         "name": "",
         "showlegend": true,
         "textinfo": "percent+label",
         "textposition": "inside",
         "type": "pie",
         "values": {
          "bdata": "dAlBCbgFmAWVASABdAA=",
          "dtype": "i2"
         }
        }
       ],
       "layout": {
        "height": 700,
        "legend": {
         "tracegroupgap": 0
        },
        "template": {
         "data": {
          "bar": [
           {
            "error_x": {
             "color": "#2a3f5f"
            },
            "error_y": {
             "color": "#2a3f5f"
            },
            "marker": {
             "line": {
              "color": "#E5ECF6",
              "width": 0.5
             },
             "pattern": {
              "fillmode": "overlay",
              "size": 10,
              "solidity": 0.2
             }
            },
            "type": "bar"
           }
          ],
          "barpolar": [
           {
            "marker": {
             "line": {
              "color": "#E5ECF6",
              "width": 0.5
             },
             "pattern": {
              "fillmode": "overlay",
              "size": 10,
              "solidity": 0.2
             }
            },
            "type": "barpolar"
           }
          ],
          "carpet": [
           {
            "aaxis": {
             "endlinecolor": "#2a3f5f",
             "gridcolor": "white",
             "linecolor": "white",
             "minorgridcolor": "white",
             "startlinecolor": "#2a3f5f"
            },
            "baxis": {
             "endlinecolor": "#2a3f5f",
             "gridcolor": "white",
             "linecolor": "white",
             "minorgridcolor": "white",
             "startlinecolor": "#2a3f5f"
            },
            "type": "carpet"
           }
          ],
          "choropleth": [
           {
            "colorbar": {
             "outlinewidth": 0,
             "ticks": ""
            },
            "type": "choropleth"
           }
          ],
          "contour": [
           {
            "colorbar": {
             "outlinewidth": 0,
             "ticks": ""
            },
            "colorscale": [
             [
              0,
              "#0d0887"
             ],
             [
              0.1111111111111111,
              "#46039f"
             ],
             [
              0.2222222222222222,
              "#7201a8"
             ],
             [
              0.3333333333333333,
              "#9c179e"
             ],
             [
              0.4444444444444444,
              "#bd3786"
             ],
             [
              0.5555555555555556,
              "#d8576b"
             ],
             [
              0.6666666666666666,
              "#ed7953"
             ],
             [
              0.7777777777777778,
              "#fb9f3a"
             ],
             [
              0.8888888888888888,
              "#fdca26"
             ],
             [
              1,
              "#f0f921"
             ]
            ],
            "type": "contour"
           }
          ],
          "contourcarpet": [
           {
            "colorbar": {
             "outlinewidth": 0,
             "ticks": ""
            },
            "type": "contourcarpet"
           }
          ],
          "heatmap": [
           {
            "colorbar": {
             "outlinewidth": 0,
             "ticks": ""
            },
            "colorscale": [
             [
              0,
              "#0d0887"
             ],
             [
              0.1111111111111111,
              "#46039f"
             ],
             [
              0.2222222222222222,
              "#7201a8"
             ],
             [
              0.3333333333333333,
              "#9c179e"
             ],
             [
              0.4444444444444444,
              "#bd3786"
             ],
             [
              0.5555555555555556,
              "#d8576b"
             ],
             [
              0.6666666666666666,
              "#ed7953"
             ],
             [
              0.7777777777777778,
              "#fb9f3a"
             ],
             [
              0.8888888888888888,
              "#fdca26"
             ],
             [
              1,
              "#f0f921"
             ]
            ],
            "type": "heatmap"
           }
          ],
          "histogram": [
           {
            "marker": {
             "pattern": {
              "fillmode": "overlay",
              "size": 10,
              "solidity": 0.2
             }
            },
            "type": "histogram"
           }
          ],
          "histogram2d": [
           {
            "colorbar": {
             "outlinewidth": 0,
             "ticks": ""
            },
            "colorscale": [
             [
              0,
              "#0d0887"
             ],
             [
              0.1111111111111111,
              "#46039f"
             ],
             [
              0.2222222222222222,
              "#7201a8"
             ],
             [
              0.3333333333333333,
              "#9c179e"
             ],
             [
              0.4444444444444444,
              "#bd3786"
             ],
             [
              0.5555555555555556,
              "#d8576b"
             ],
             [
              0.6666666666666666,
              "#ed7953"
             ],
             [
              0.7777777777777778,
              "#fb9f3a"
             ],
             [
              0.8888888888888888,
              "#fdca26"
             ],
             [
              1,
              "#f0f921"
             ]
            ],
            "type": "histogram2d"
           }
          ],
          "histogram2dcontour": [
           {
            "colorbar": {
             "outlinewidth": 0,
             "ticks": ""
            },
            "colorscale": [
             [
              0,
              "#0d0887"
             ],
             [
              0.1111111111111111,
              "#46039f"
             ],
             [
              0.2222222222222222,
              "#7201a8"
             ],
             [
              0.3333333333333333,
              "#9c179e"
             ],
             [
              0.4444444444444444,
              "#bd3786"
             ],
             [
              0.5555555555555556,
              "#d8576b"
             ],
             [
              0.6666666666666666,
              "#ed7953"
             ],
             [
              0.7777777777777778,
              "#fb9f3a"
             ],
             [
              0.8888888888888888,
              "#fdca26"
             ],
             [
              1,
              "#f0f921"
             ]
            ],
            "type": "histogram2dcontour"
           }
          ],
          "mesh3d": [
           {
            "colorbar": {
             "outlinewidth": 0,
             "ticks": ""
            },
            "type": "mesh3d"
           }
          ],
          "parcoords": [
           {
            "line": {
             "colorbar": {
              "outlinewidth": 0,
              "ticks": ""
             }
            },
            "type": "parcoords"
           }
          ],
          "pie": [
           {
            "automargin": true,
            "type": "pie"
           }
          ],
          "scatter": [
           {
            "fillpattern": {
             "fillmode": "overlay",
             "size": 10,
             "solidity": 0.2
            },
            "type": "scatter"
           }
          ],
          "scatter3d": [
           {
            "line": {
             "colorbar": {
              "outlinewidth": 0,
              "ticks": ""
             }
            },
            "marker": {
             "colorbar": {
              "outlinewidth": 0,
              "ticks": ""
             }
            },
            "type": "scatter3d"
           }
          ],
          "scattercarpet": [
           {
            "marker": {
             "colorbar": {
              "outlinewidth": 0,
              "ticks": ""
             }
            },
            "type": "scattercarpet"
           }
          ],
          "scattergeo": [
           {
            "marker": {
             "colorbar": {
              "outlinewidth": 0,
              "ticks": ""
             }
            },
            "type": "scattergeo"
           }
          ],
          "scattergl": [
           {
            "marker": {
             "colorbar": {
              "outlinewidth": 0,
              "ticks": ""
             }
            },
            "type": "scattergl"
           }
          ],
          "scattermap": [
           {
            "marker": {
             "colorbar": {
              "outlinewidth": 0,
              "ticks": ""
             }
            },
            "type": "scattermap"
           }
          ],
          "scattermapbox": [
           {
            "marker": {
             "colorbar": {
              "outlinewidth": 0,
              "ticks": ""
             }
            },
            "type": "scattermapbox"
           }
          ],
          "scatterpolar": [
           {
            "marker": {
             "colorbar": {
              "outlinewidth": 0,
              "ticks": ""
             }
            },
            "type": "scatterpolar"
           }
          ],
          "scatterpolargl": [
           {
            "marker": {
             "colorbar": {
              "outlinewidth": 0,
              "ticks": ""
             }
            },
            "type": "scatterpolargl"
           }
          ],
          "scatterternary": [
           {
            "marker": {
             "colorbar": {
              "outlinewidth": 0,
              "ticks": ""
             }
            },
            "type": "scatterternary"
           }
          ],
          "surface": [
           {
            "colorbar": {
             "outlinewidth": 0,
             "ticks": ""
            },
            "colorscale": [
             [
              0,
              "#0d0887"
             ],
             [
              0.1111111111111111,
              "#46039f"
             ],
             [
              0.2222222222222222,
              "#7201a8"
             ],
             [
              0.3333333333333333,
              "#9c179e"
             ],
             [
              0.4444444444444444,
              "#bd3786"
             ],
             [
              0.5555555555555556,
              "#d8576b"
             ],
             [
              0.6666666666666666,
              "#ed7953"
             ],
             [
              0.7777777777777778,
              "#fb9f3a"
             ],
             [
              0.8888888888888888,
              "#fdca26"
             ],
             [
              1,
              "#f0f921"
             ]
            ],
            "type": "surface"
           }
          ],
          "table": [
           {
            "cells": {
             "fill": {
              "color": "#EBF0F8"
             },
             "line": {
              "color": "white"
             }
            },
            "header": {
             "fill": {
              "color": "#C8D4E3"
             },
             "line": {
              "color": "white"
             }
            },
            "type": "table"
           }
          ]
         },
         "layout": {
          "annotationdefaults": {
           "arrowcolor": "#2a3f5f",
           "arrowhead": 0,
           "arrowwidth": 1
          },
          "autotypenumbers": "strict",
          "coloraxis": {
           "colorbar": {
            "outlinewidth": 0,
            "ticks": ""
           }
          },
          "colorscale": {
           "diverging": [
            [
             0,
             "#8e0152"
            ],
            [
             0.1,
             "#c51b7d"
            ],
            [
             0.2,
             "#de77ae"
            ],
            [
             0.3,
             "#f1b6da"
            ],
            [
             0.4,
             "#fde0ef"
            ],
            [
             0.5,
             "#f7f7f7"
            ],
            [
             0.6,
             "#e6f5d0"
            ],
            [
             0.7,
             "#b8e186"
            ],
            [
             0.8,
             "#7fbc41"
            ],
            [
             0.9,
             "#4d9221"
            ],
            [
             1,
             "#276419"
            ]
           ],
           "sequential": [
            [
             0,
             "#0d0887"
            ],
            [
             0.1111111111111111,
             "#46039f"
            ],
            [
             0.2222222222222222,
             "#7201a8"
            ],
            [
             0.3333333333333333,
             "#9c179e"
            ],
            [
             0.4444444444444444,
             "#bd3786"
            ],
            [
             0.5555555555555556,
             "#d8576b"
            ],
            [
             0.6666666666666666,
             "#ed7953"
            ],
            [
             0.7777777777777778,
             "#fb9f3a"
            ],
            [
             0.8888888888888888,
             "#fdca26"
            ],
            [
             1,
             "#f0f921"
            ]
           ],
           "sequentialminus": [
            [
             0,
             "#0d0887"
            ],
            [
             0.1111111111111111,
             "#46039f"
            ],
            [
             0.2222222222222222,
             "#7201a8"
            ],
            [
             0.3333333333333333,
             "#9c179e"
            ],
            [
             0.4444444444444444,
             "#bd3786"
            ],
            [
             0.5555555555555556,
             "#d8576b"
            ],
            [
             0.6666666666666666,
             "#ed7953"
            ],
            [
             0.7777777777777778,
             "#fb9f3a"
            ],
            [
             0.8888888888888888,
             "#fdca26"
            ],
            [
             1,
             "#f0f921"
            ]
           ]
          },
          "colorway": [
           "#636efa",
           "#EF553B",
           "#00cc96",
           "#ab63fa",
           "#FFA15A",
           "#19d3f3",
           "#FF6692",
           "#B6E880",
           "#FF97FF",
           "#FECB52"
          ],
          "font": {
           "color": "#2a3f5f"
          },
          "geo": {
           "bgcolor": "white",
           "lakecolor": "white",
           "landcolor": "#E5ECF6",
           "showlakes": true,
           "showland": true,
           "subunitcolor": "white"
          },
          "hoverlabel": {
           "align": "left"
          },
          "hovermode": "closest",
          "mapbox": {
           "style": "light"
          },
          "paper_bgcolor": "white",
          "plot_bgcolor": "#E5ECF6",
          "polar": {
           "angularaxis": {
            "gridcolor": "white",
            "linecolor": "white",
            "ticks": ""
           },
           "bgcolor": "#E5ECF6",
           "radialaxis": {
            "gridcolor": "white",
            "linecolor": "white",
            "ticks": ""
           }
          },
          "scene": {
           "xaxis": {
            "backgroundcolor": "#E5ECF6",
            "gridcolor": "white",
            "gridwidth": 2,
            "linecolor": "white",
            "showbackground": true,
            "ticks": "",
            "zerolinecolor": "white"
           },
           "yaxis": {
            "backgroundcolor": "#E5ECF6",
            "gridcolor": "white",
            "gridwidth": 2,
            "linecolor": "white",
            "showbackground": true,
            "ticks": "",
            "zerolinecolor": "white"
           },
           "zaxis": {
            "backgroundcolor": "#E5ECF6",
            "gridcolor": "white",
            "gridwidth": 2,
            "linecolor": "white",
            "showbackground": true,
            "ticks": "",
            "zerolinecolor": "white"
           }
          },
          "shapedefaults": {
           "line": {
            "color": "#2a3f5f"
           }
          },
          "ternary": {
           "aaxis": {
            "gridcolor": "white",
            "linecolor": "white",
            "ticks": ""
           },
           "baxis": {
            "gridcolor": "white",
            "linecolor": "white",
            "ticks": ""
           },
           "bgcolor": "#E5ECF6",
           "caxis": {
            "gridcolor": "white",
            "linecolor": "white",
            "ticks": ""
           }
          },
          "title": {
           "x": 0.05
          },
          "xaxis": {
           "automargin": true,
           "gridcolor": "white",
           "linecolor": "white",
           "ticks": "",
           "title": {
            "standoff": 15
           },
           "zerolinecolor": "white",
           "zerolinewidth": 2
          },
          "yaxis": {
           "automargin": true,
           "gridcolor": "white",
           "linecolor": "white",
           "ticks": "",
           "title": {
            "standoff": 15
           },
           "zerolinecolor": "white",
           "zerolinewidth": 2
          }
         }
        },
        "title": {
         "text": "Distribution of Products by Primary Category (Grouped)"
        },
        "width": 700
       }
      }
     },
     "metadata": {},
     "output_type": "display_data"
    }
   ],
   "source": [
    "import plotly.express as px\n",
    "import pandas as pd\n",
    "\n",
    "# Count categories\n",
    "category_counts = (\n",
    "    product_info_df['primary_category']\n",
    "    .dropna()\n",
    "    .value_counts()\n",
    "    .reset_index()\n",
    ")\n",
    "category_counts.columns = ['primary_category', 'count']\n",
    "category_counts['percent'] = category_counts['count'] / category_counts['count'].sum()\n",
    "\n",
    "# Threshold and grouping\n",
    "threshold = 0.03\n",
    "main_cats = category_counts[category_counts['percent'] >= threshold]\n",
    "others_sum = category_counts[category_counts['percent'] < threshold]['count'].sum()\n",
    "\n",
    "# Use pd.concat instead of .append\n",
    "if others_sum > 0:\n",
    "    others_row = pd.DataFrame([{\n",
    "        'primary_category': 'Others',\n",
    "        'count': others_sum,\n",
    "        'percent': others_sum / category_counts['count'].sum()\n",
    "    }])\n",
    "    category_final = pd.concat([main_cats, others_row], ignore_index=True)\n",
    "else:\n",
    "    category_final = main_cats\n",
    "\n",
    "# Plot\n",
    "fig_cat = px.pie(\n",
    "    category_final,\n",
    "    names='primary_category',\n",
    "    values='count',\n",
    "    title='Distribution of Products by Primary Category (Grouped)',\n",
    "    hole=0.3,\n",
    "    width=700,\n",
    "    height=700\n",
    ")\n",
    "fig_cat.update_traces(textposition='inside', textinfo='percent+label')\n",
    "fig_cat.show()"
   ]
  },
  {
   "cell_type": "code",
   "execution_count": null,
   "metadata": {},
   "outputs": [
    {
     "data": {
      "application/vnd.plotly.v1+json": {
       "config": {
        "plotlyServerURL": "https://plot.ly"
       },
       "data": [
        {
         "customdata": [
          [
           "P245205",
           4.131,
           566585
          ],
          [
           "P311138",
           3.9175,
           326766
          ]
         ],
         "hovertemplate": "brand_name=KVD Beauty<br>product_name=%{x}<br>reviews=%{y}<br>product_id=%{customdata[0]}<br>rating=%{customdata[1]}<br>loves_count=%{customdata[2]}<extra></extra>",
         "legendgroup": "KVD Beauty",
         "marker": {
          "color": "#636efa",
          "pattern": {
           "shape": ""
          }
         },
         "name": "KVD Beauty",
         "orientation": "v",
         "showlegend": true,
         "textposition": "auto",
         "type": "bar",
         "x": [
          "Tattoo Liner Vegan Waterproof Liquid Eyeliner",
          "Lock-It Full-Coverage Long-Wear Matte Liquid Foundation"
         ],
         "xaxis": "x",
         "y": {
          "bdata": "AAAAAEDI1EAAAAAAAELMQA==",
          "dtype": "f8"
         },
         "yaxis": "y"
        },
        {
         "customdata": [
          [
           "P381000",
           3.7373,
           532085
          ],
          [
           "P425608",
           3.7063,
           121319
          ],
          [
           "P397517",
           4.0437,
           465412
          ]
         ],
         "hovertemplate": "brand_name=Too Faced<br>product_name=%{x}<br>reviews=%{y}<br>product_id=%{customdata[0]}<br>rating=%{customdata[1]}<br>loves_count=%{customdata[2]}<extra></extra>",
         "legendgroup": "Too Faced",
         "marker": {
          "color": "#EF553B",
          "pattern": {
           "shape": ""
          }
         },
         "name": "Too Faced",
         "orientation": "v",
         "showlegend": true,
         "textposition": "auto",
         "type": "bar",
         "x": [
          "Better Than Sex Volumizing & Lengthening Mascara",
          "Mini Better Than Sex Volumizing & Lengthening Mascara",
          "Born This Way Natural Finish Longwear Liquid Foundation"
         ],
         "xaxis": "x",
         "y": {
          "bdata": "AAAAAIAs0kAAAAAAAILOQAAAAAAAEc1A",
          "dtype": "f8"
         },
         "yaxis": "y"
        },
        {
         "customdata": [
          [
           "P2855",
           4.6643,
           840076
          ],
          [
           "P377873",
           4.308,
           1153594
          ]
         ],
         "hovertemplate": "brand_name=NARS<br>product_name=%{x}<br>reviews=%{y}<br>product_id=%{customdata[0]}<br>rating=%{customdata[1]}<br>loves_count=%{customdata[2]}<extra></extra>",
         "legendgroup": "NARS",
         "marker": {
          "color": "#00cc96",
          "pattern": {
           "shape": ""
          }
         },
         "name": "NARS",
         "orientation": "v",
         "showlegend": true,
         "textposition": "auto",
         "type": "bar",
         "x": [
          "Blush",
          "Radiant Creamy Concealer"
         ],
         "xaxis": "x",
         "y": {
          "bdata": "AAAAAMCz0UAAAAAAgCvJQA==",
          "dtype": "f8"
         },
         "yaxis": "y"
        },
        {
         "customdata": [
          [
           "P133707",
           4.3773,
           543118
          ],
          [
           "P263504",
           4.447,
           652806
          ],
          [
           "P422455",
           4.4463,
           208071
          ]
         ],
         "hovertemplate": "brand_name=Urban Decay<br>product_name=%{x}<br>reviews=%{y}<br>product_id=%{customdata[0]}<br>rating=%{customdata[1]}<br>loves_count=%{customdata[2]}<extra></extra>",
         "legendgroup": "Urban Decay",
         "marker": {
          "color": "#ab63fa",
          "pattern": {
           "shape": ""
          }
         },
         "name": "Urban Decay",
         "orientation": "v",
         "showlegend": true,
         "textposition": "auto",
         "type": "bar",
         "x": [
          "24/7 Glide-On Waterproof Eyeliner Pencil",
          "All Nighter Long-Lasting Makeup Setting Spray",
          "Mini All Nighter Long-Lasting Makeup Setting Spray"
         ],
         "xaxis": "x",
         "y": {
          "bdata": "AAAAAMDG0EAAAAAAgCnIQAAAAAAA78dA",
          "dtype": "f8"
         },
         "yaxis": "y"
        },
        {
         "customdata": [
          [
           "P87985432",
           4.0356,
           856497
          ],
          [
           "P67988453",
           4.6357,
           968317
          ]
         ],
         "hovertemplate": "brand_name=Fenty Beauty by Rihanna<br>product_name=%{x}<br>reviews=%{y}<br>product_id=%{customdata[0]}<br>rating=%{customdata[1]}<br>loves_count=%{customdata[2]}<extra></extra>",
         "legendgroup": "Fenty Beauty by Rihanna",
         "marker": {
          "color": "#FFA15A",
          "pattern": {
           "shape": ""
          }
         },
         "name": "Fenty Beauty by Rihanna",
         "orientation": "v",
         "showlegend": true,
         "textposition": "auto",
         "type": "bar",
         "x": [
          "Pro Filt’r Soft Matte Longwear Liquid Foundation",
          "Gloss Bomb Universal Lip Luminizer"
         ],
         "xaxis": "x",
         "y": {
          "bdata": "AAAAAMCJ0EAAAAAAALTHQA==",
          "dtype": "f8"
         },
         "yaxis": "y"
        },
        {
         "customdata": [
          [
           "P420652",
           4.3508,
           1081315
          ]
         ],
         "hovertemplate": "brand_name=LANEIGE<br>product_name=%{x}<br>reviews=%{y}<br>product_id=%{customdata[0]}<br>rating=%{customdata[1]}<br>loves_count=%{customdata[2]}<extra></extra>",
         "legendgroup": "LANEIGE",
         "marker": {
          "color": "#19d3f3",
          "pattern": {
           "shape": ""
          }
         },
         "name": "LANEIGE",
         "orientation": "v",
         "showlegend": true,
         "textposition": "auto",
         "type": "bar",
         "x": [
          "Lip Sleeping Mask Intense Hydration with Vitamin C"
         ],
         "xaxis": "x",
         "y": {
          "bdata": "AAAAAAB7z0A=",
          "dtype": "f8"
         },
         "yaxis": "y"
        },
        {
         "customdata": [
          [
           "P202633",
           4.4056,
           834189
          ],
          [
           "P384060",
           4.6701,
           617437
          ]
         ],
         "hovertemplate": "brand_name=Anastasia Beverly Hills<br>product_name=%{x}<br>reviews=%{y}<br>product_id=%{customdata[0]}<br>rating=%{customdata[1]}<br>loves_count=%{customdata[2]}<extra></extra>",
         "legendgroup": "Anastasia Beverly Hills",
         "marker": {
          "color": "#FF6692",
          "pattern": {
           "shape": ""
          }
         },
         "name": "Anastasia Beverly Hills",
         "orientation": "v",
         "showlegend": true,
         "textposition": "auto",
         "type": "bar",
         "x": [
          "Brow Wiz Ultra-Slim Precision Brow Pencil",
          "DIPBROW Waterproof, Smudge Proof Brow Pomade"
         ],
         "xaxis": "x",
         "y": {
          "bdata": "AAAAAIAGz0AAAAAAAMvFQA==",
          "dtype": "f8"
         },
         "yaxis": "y"
        },
        {
         "customdata": [
          [
           "P289307",
           4.1242,
           308584
          ]
         ],
         "hovertemplate": "brand_name=Benefit Cosmetics<br>product_name=%{x}<br>reviews=%{y}<br>product_id=%{customdata[0]}<br>rating=%{customdata[1]}<br>loves_count=%{customdata[2]}<extra></extra>",
         "legendgroup": "Benefit Cosmetics",
         "marker": {
          "color": "#B6E880",
          "pattern": {
           "shape": ""
          }
         },
         "name": "Benefit Cosmetics",
         "orientation": "v",
         "showlegend": true,
         "textposition": "auto",
         "type": "bar",
         "x": [
          "They're Real! Lengthening Mascara"
         ],
         "xaxis": "x",
         "y": {
          "bdata": "AAAAAADGzkA=",
          "dtype": "f8"
         },
         "yaxis": "y"
        },
        {
         "customdata": [
          [
           "P174213",
           4.625,
           464024
          ]
         ],
         "hovertemplate": "brand_name=Buxom<br>product_name=%{x}<br>reviews=%{y}<br>product_id=%{customdata[0]}<br>rating=%{customdata[1]}<br>loves_count=%{customdata[2]}<extra></extra>",
         "legendgroup": "Buxom",
         "marker": {
          "color": "#FF97FF",
          "pattern": {
           "shape": ""
          }
         },
         "name": "Buxom",
         "orientation": "v",
         "showlegend": true,
         "textposition": "auto",
         "type": "bar",
         "x": [
          "Full-On Plumping Lip Polish Gloss"
         ],
         "xaxis": "x",
         "y": {
          "bdata": "AAAAAIAnyEA=",
          "dtype": "f8"
         },
         "yaxis": "y"
        },
        {
         "customdata": [
          [
           "P253818",
           4.3407,
           398429
          ]
         ],
         "hovertemplate": "brand_name=stila<br>product_name=%{x}<br>reviews=%{y}<br>product_id=%{customdata[0]}<br>rating=%{customdata[1]}<br>loves_count=%{customdata[2]}<extra></extra>",
         "legendgroup": "stila",
         "marker": {
          "color": "#FECB52",
          "pattern": {
           "shape": ""
          }
         },
         "name": "stila",
         "orientation": "v",
         "showlegend": true,
         "textposition": "auto",
         "type": "bar",
         "x": [
          "Stay All Day Waterproof Liquid Eye Liner"
         ],
         "xaxis": "x",
         "y": {
          "bdata": "AAAAAID7xUA=",
          "dtype": "f8"
         },
         "yaxis": "y"
        },
        {
         "customdata": [
          [
           "P281411",
           4.3201,
           1029051
          ]
         ],
         "hovertemplate": "brand_name=SEPHORA COLLECTION<br>product_name=%{x}<br>reviews=%{y}<br>product_id=%{customdata[0]}<br>rating=%{customdata[1]}<br>loves_count=%{customdata[2]}<extra></extra>",
         "legendgroup": "SEPHORA COLLECTION",
         "marker": {
          "color": "#636efa",
          "pattern": {
           "shape": ""
          }
         },
         "name": "SEPHORA COLLECTION",
         "orientation": "v",
         "showlegend": true,
         "textposition": "auto",
         "type": "bar",
         "x": [
          "Cream Lip Stain Liquid Lipstick"
         ],
         "xaxis": "x",
         "y": {
          "bdata": "AAAAAICzxUA=",
          "dtype": "f8"
         },
         "yaxis": "y"
        },
        {
         "customdata": [
          [
           "P429903",
           3.8976,
           130385
          ]
         ],
         "hovertemplate": "brand_name=MILK MAKEUP<br>product_name=%{x}<br>reviews=%{y}<br>product_id=%{customdata[0]}<br>rating=%{customdata[1]}<br>loves_count=%{customdata[2]}<extra></extra>",
         "legendgroup": "MILK MAKEUP",
         "marker": {
          "color": "#EF553B",
          "pattern": {
           "shape": ""
          }
         },
         "name": "MILK MAKEUP",
         "orientation": "v",
         "showlegend": true,
         "textposition": "auto",
         "type": "bar",
         "x": [
          "KUSH High Volumizing Mascara"
         ],
         "xaxis": "x",
         "y": {
          "bdata": "AAAAAID7w0A=",
          "dtype": "f8"
         },
         "yaxis": "y"
        }
       ],
       "layout": {
        "bargap": 0.3,
        "barmode": "relative",
        "height": 700,
        "legend": {
         "title": {
          "text": "brand_name"
         },
         "tracegroupgap": 0
        },
        "template": {
         "data": {
          "bar": [
           {
            "error_x": {
             "color": "#2a3f5f"
            },
            "error_y": {
             "color": "#2a3f5f"
            },
            "marker": {
             "line": {
              "color": "#E5ECF6",
              "width": 0.5
             },
             "pattern": {
              "fillmode": "overlay",
              "size": 10,
              "solidity": 0.2
             }
            },
            "type": "bar"
           }
          ],
          "barpolar": [
           {
            "marker": {
             "line": {
              "color": "#E5ECF6",
              "width": 0.5
             },
             "pattern": {
              "fillmode": "overlay",
              "size": 10,
              "solidity": 0.2
             }
            },
            "type": "barpolar"
           }
          ],
          "carpet": [
           {
            "aaxis": {
             "endlinecolor": "#2a3f5f",
             "gridcolor": "white",
             "linecolor": "white",
             "minorgridcolor": "white",
             "startlinecolor": "#2a3f5f"
            },
            "baxis": {
             "endlinecolor": "#2a3f5f",
             "gridcolor": "white",
             "linecolor": "white",
             "minorgridcolor": "white",
             "startlinecolor": "#2a3f5f"
            },
            "type": "carpet"
           }
          ],
          "choropleth": [
           {
            "colorbar": {
             "outlinewidth": 0,
             "ticks": ""
            },
            "type": "choropleth"
           }
          ],
          "contour": [
           {
            "colorbar": {
             "outlinewidth": 0,
             "ticks": ""
            },
            "colorscale": [
             [
              0,
              "#0d0887"
             ],
             [
              0.1111111111111111,
              "#46039f"
             ],
             [
              0.2222222222222222,
              "#7201a8"
             ],
             [
              0.3333333333333333,
              "#9c179e"
             ],
             [
              0.4444444444444444,
              "#bd3786"
             ],
             [
              0.5555555555555556,
              "#d8576b"
             ],
             [
              0.6666666666666666,
              "#ed7953"
             ],
             [
              0.7777777777777778,
              "#fb9f3a"
             ],
             [
              0.8888888888888888,
              "#fdca26"
             ],
             [
              1,
              "#f0f921"
             ]
            ],
            "type": "contour"
           }
          ],
          "contourcarpet": [
           {
            "colorbar": {
             "outlinewidth": 0,
             "ticks": ""
            },
            "type": "contourcarpet"
           }
          ],
          "heatmap": [
           {
            "colorbar": {
             "outlinewidth": 0,
             "ticks": ""
            },
            "colorscale": [
             [
              0,
              "#0d0887"
             ],
             [
              0.1111111111111111,
              "#46039f"
             ],
             [
              0.2222222222222222,
              "#7201a8"
             ],
             [
              0.3333333333333333,
              "#9c179e"
             ],
             [
              0.4444444444444444,
              "#bd3786"
             ],
             [
              0.5555555555555556,
              "#d8576b"
             ],
             [
              0.6666666666666666,
              "#ed7953"
             ],
             [
              0.7777777777777778,
              "#fb9f3a"
             ],
             [
              0.8888888888888888,
              "#fdca26"
             ],
             [
              1,
              "#f0f921"
             ]
            ],
            "type": "heatmap"
           }
          ],
          "histogram": [
           {
            "marker": {
             "pattern": {
              "fillmode": "overlay",
              "size": 10,
              "solidity": 0.2
             }
            },
            "type": "histogram"
           }
          ],
          "histogram2d": [
           {
            "colorbar": {
             "outlinewidth": 0,
             "ticks": ""
            },
            "colorscale": [
             [
              0,
              "#0d0887"
             ],
             [
              0.1111111111111111,
              "#46039f"
             ],
             [
              0.2222222222222222,
              "#7201a8"
             ],
             [
              0.3333333333333333,
              "#9c179e"
             ],
             [
              0.4444444444444444,
              "#bd3786"
             ],
             [
              0.5555555555555556,
              "#d8576b"
             ],
             [
              0.6666666666666666,
              "#ed7953"
             ],
             [
              0.7777777777777778,
              "#fb9f3a"
             ],
             [
              0.8888888888888888,
              "#fdca26"
             ],
             [
              1,
              "#f0f921"
             ]
            ],
            "type": "histogram2d"
           }
          ],
          "histogram2dcontour": [
           {
            "colorbar": {
             "outlinewidth": 0,
             "ticks": ""
            },
            "colorscale": [
             [
              0,
              "#0d0887"
             ],
             [
              0.1111111111111111,
              "#46039f"
             ],
             [
              0.2222222222222222,
              "#7201a8"
             ],
             [
              0.3333333333333333,
              "#9c179e"
             ],
             [
              0.4444444444444444,
              "#bd3786"
             ],
             [
              0.5555555555555556,
              "#d8576b"
             ],
             [
              0.6666666666666666,
              "#ed7953"
             ],
             [
              0.7777777777777778,
              "#fb9f3a"
             ],
             [
              0.8888888888888888,
              "#fdca26"
             ],
             [
              1,
              "#f0f921"
             ]
            ],
            "type": "histogram2dcontour"
           }
          ],
          "mesh3d": [
           {
            "colorbar": {
             "outlinewidth": 0,
             "ticks": ""
            },
            "type": "mesh3d"
           }
          ],
          "parcoords": [
           {
            "line": {
             "colorbar": {
              "outlinewidth": 0,
              "ticks": ""
             }
            },
            "type": "parcoords"
           }
          ],
          "pie": [
           {
            "automargin": true,
            "type": "pie"
           }
          ],
          "scatter": [
           {
            "fillpattern": {
             "fillmode": "overlay",
             "size": 10,
             "solidity": 0.2
            },
            "type": "scatter"
           }
          ],
          "scatter3d": [
           {
            "line": {
             "colorbar": {
              "outlinewidth": 0,
              "ticks": ""
             }
            },
            "marker": {
             "colorbar": {
              "outlinewidth": 0,
              "ticks": ""
             }
            },
            "type": "scatter3d"
           }
          ],
          "scattercarpet": [
           {
            "marker": {
             "colorbar": {
              "outlinewidth": 0,
              "ticks": ""
             }
            },
            "type": "scattercarpet"
           }
          ],
          "scattergeo": [
           {
            "marker": {
             "colorbar": {
              "outlinewidth": 0,
              "ticks": ""
             }
            },
            "type": "scattergeo"
           }
          ],
          "scattergl": [
           {
            "marker": {
             "colorbar": {
              "outlinewidth": 0,
              "ticks": ""
             }
            },
            "type": "scattergl"
           }
          ],
          "scattermap": [
           {
            "marker": {
             "colorbar": {
              "outlinewidth": 0,
              "ticks": ""
             }
            },
            "type": "scattermap"
           }
          ],
          "scattermapbox": [
           {
            "marker": {
             "colorbar": {
              "outlinewidth": 0,
              "ticks": ""
             }
            },
            "type": "scattermapbox"
           }
          ],
          "scatterpolar": [
           {
            "marker": {
             "colorbar": {
              "outlinewidth": 0,
              "ticks": ""
             }
            },
            "type": "scatterpolar"
           }
          ],
          "scatterpolargl": [
           {
            "marker": {
             "colorbar": {
              "outlinewidth": 0,
              "ticks": ""
             }
            },
            "type": "scatterpolargl"
           }
          ],
          "scatterternary": [
           {
            "marker": {
             "colorbar": {
              "outlinewidth": 0,
              "ticks": ""
             }
            },
            "type": "scatterternary"
           }
          ],
          "surface": [
           {
            "colorbar": {
             "outlinewidth": 0,
             "ticks": ""
            },
            "colorscale": [
             [
              0,
              "#0d0887"
             ],
             [
              0.1111111111111111,
              "#46039f"
             ],
             [
              0.2222222222222222,
              "#7201a8"
             ],
             [
              0.3333333333333333,
              "#9c179e"
             ],
             [
              0.4444444444444444,
              "#bd3786"
             ],
             [
              0.5555555555555556,
              "#d8576b"
             ],
             [
              0.6666666666666666,
              "#ed7953"
             ],
             [
              0.7777777777777778,
              "#fb9f3a"
             ],
             [
              0.8888888888888888,
              "#fdca26"
             ],
             [
              1,
              "#f0f921"
             ]
            ],
            "type": "surface"
           }
          ],
          "table": [
           {
            "cells": {
             "fill": {
              "color": "#EBF0F8"
             },
             "line": {
              "color": "white"
             }
            },
            "header": {
             "fill": {
              "color": "#C8D4E3"
             },
             "line": {
              "color": "white"
             }
            },
            "type": "table"
           }
          ]
         },
         "layout": {
          "annotationdefaults": {
           "arrowcolor": "#2a3f5f",
           "arrowhead": 0,
           "arrowwidth": 1
          },
          "autotypenumbers": "strict",
          "coloraxis": {
           "colorbar": {
            "outlinewidth": 0,
            "ticks": ""
           }
          },
          "colorscale": {
           "diverging": [
            [
             0,
             "#8e0152"
            ],
            [
             0.1,
             "#c51b7d"
            ],
            [
             0.2,
             "#de77ae"
            ],
            [
             0.3,
             "#f1b6da"
            ],
            [
             0.4,
             "#fde0ef"
            ],
            [
             0.5,
             "#f7f7f7"
            ],
            [
             0.6,
             "#e6f5d0"
            ],
            [
             0.7,
             "#b8e186"
            ],
            [
             0.8,
             "#7fbc41"
            ],
            [
             0.9,
             "#4d9221"
            ],
            [
             1,
             "#276419"
            ]
           ],
           "sequential": [
            [
             0,
             "#0d0887"
            ],
            [
             0.1111111111111111,
             "#46039f"
            ],
            [
             0.2222222222222222,
             "#7201a8"
            ],
            [
             0.3333333333333333,
             "#9c179e"
            ],
            [
             0.4444444444444444,
             "#bd3786"
            ],
            [
             0.5555555555555556,
             "#d8576b"
            ],
            [
             0.6666666666666666,
             "#ed7953"
            ],
            [
             0.7777777777777778,
             "#fb9f3a"
            ],
            [
             0.8888888888888888,
             "#fdca26"
            ],
            [
             1,
             "#f0f921"
            ]
           ],
           "sequentialminus": [
            [
             0,
             "#0d0887"
            ],
            [
             0.1111111111111111,
             "#46039f"
            ],
            [
             0.2222222222222222,
             "#7201a8"
            ],
            [
             0.3333333333333333,
             "#9c179e"
            ],
            [
             0.4444444444444444,
             "#bd3786"
            ],
            [
             0.5555555555555556,
             "#d8576b"
            ],
            [
             0.6666666666666666,
             "#ed7953"
            ],
            [
             0.7777777777777778,
             "#fb9f3a"
            ],
            [
             0.8888888888888888,
             "#fdca26"
            ],
            [
             1,
             "#f0f921"
            ]
           ]
          },
          "colorway": [
           "#636efa",
           "#EF553B",
           "#00cc96",
           "#ab63fa",
           "#FFA15A",
           "#19d3f3",
           "#FF6692",
           "#B6E880",
           "#FF97FF",
           "#FECB52"
          ],
          "font": {
           "color": "#2a3f5f"
          },
          "geo": {
           "bgcolor": "white",
           "lakecolor": "white",
           "landcolor": "#E5ECF6",
           "showlakes": true,
           "showland": true,
           "subunitcolor": "white"
          },
          "hoverlabel": {
           "align": "left"
          },
          "hovermode": "closest",
          "mapbox": {
           "style": "light"
          },
          "paper_bgcolor": "white",
          "plot_bgcolor": "#E5ECF6",
          "polar": {
           "angularaxis": {
            "gridcolor": "white",
            "linecolor": "white",
            "ticks": ""
           },
           "bgcolor": "#E5ECF6",
           "radialaxis": {
            "gridcolor": "white",
            "linecolor": "white",
            "ticks": ""
           }
          },
          "scene": {
           "xaxis": {
            "backgroundcolor": "#E5ECF6",
            "gridcolor": "white",
            "gridwidth": 2,
            "linecolor": "white",
            "showbackground": true,
            "ticks": "",
            "zerolinecolor": "white"
           },
           "yaxis": {
            "backgroundcolor": "#E5ECF6",
            "gridcolor": "white",
            "gridwidth": 2,
            "linecolor": "white",
            "showbackground": true,
            "ticks": "",
            "zerolinecolor": "white"
           },
           "zaxis": {
            "backgroundcolor": "#E5ECF6",
            "gridcolor": "white",
            "gridwidth": 2,
            "linecolor": "white",
            "showbackground": true,
            "ticks": "",
            "zerolinecolor": "white"
           }
          },
          "shapedefaults": {
           "line": {
            "color": "#2a3f5f"
           }
          },
          "ternary": {
           "aaxis": {
            "gridcolor": "white",
            "linecolor": "white",
            "ticks": ""
           },
           "baxis": {
            "gridcolor": "white",
            "linecolor": "white",
            "ticks": ""
           },
           "bgcolor": "#E5ECF6",
           "caxis": {
            "gridcolor": "white",
            "linecolor": "white",
            "ticks": ""
           }
          },
          "title": {
           "x": 0.05
          },
          "xaxis": {
           "automargin": true,
           "gridcolor": "white",
           "linecolor": "white",
           "ticks": "",
           "title": {
            "standoff": 15
           },
           "zerolinecolor": "white",
           "zerolinewidth": 2
          },
          "yaxis": {
           "automargin": true,
           "gridcolor": "white",
           "linecolor": "white",
           "ticks": "",
           "title": {
            "standoff": 15
           },
           "zerolinecolor": "white",
           "zerolinewidth": 2
          }
         }
        },
        "title": {
         "text": "Top 20 Most Reviewed Sephora Products"
        },
        "xaxis": {
         "anchor": "y",
         "domain": [
          0,
          1
         ],
         "tickangle": -45,
         "title": {
          "text": "Product Name"
         }
        },
        "yaxis": {
         "anchor": "x",
         "domain": [
          0,
          1
         ],
         "title": {
          "text": "Number of Reviews"
         }
        }
       }
      }
     },
     "metadata": {},
     "output_type": "display_data"
    }
   ],
   "source": [
    "# Ensure 'reviews' is numeric\n",
    "product_info_df['reviews'] = pd.to_numeric(product_info_df['reviews'], errors='coerce')\n",
    "\n",
    "# Get top 20 products by number of reviews\n",
    "top_products = (\n",
    "    product_info_df\n",
    "    .sort_values(by='reviews', ascending=False)\n",
    "    .head(20)\n",
    ")\n",
    "\n",
    "# Create the bar chart\n",
    "fig = px.bar(\n",
    "    top_products,\n",
    "    x='product_name',\n",
    "    y='reviews',\n",
    "    color='brand_name',\n",
    "    hover_data=['product_id', 'rating', 'loves_count'],\n",
    "    title='Top 20 Most Reviewed Sephora Products',\n",
    ")\n",
    "\n",
    "# Adjust layout for thinner bars and a taller, narrower plot\n",
    "fig.update_layout(\n",
    "    xaxis_tickangle=-45,\n",
    "    xaxis_title='Product Name',\n",
    "    yaxis_title='Number of Reviews',\n",
    "    bargap=0.3,\n",
    "    height=700,\n",
    ")\n",
    "\n",
    "fig.show()"
   ]
  }
 ],
 "metadata": {
  "kernelspec": {
   "display_name": "venv",
   "language": "python",
   "name": "python3"
  },
  "language_info": {
   "codemirror_mode": {
    "name": "ipython",
    "version": 3
   },
   "file_extension": ".py",
   "mimetype": "text/x-python",
   "name": "python",
   "nbconvert_exporter": "python",
   "pygments_lexer": "ipython3",
   "version": "3.11.0"
  }
 },
 "nbformat": 4,
 "nbformat_minor": 2
}
